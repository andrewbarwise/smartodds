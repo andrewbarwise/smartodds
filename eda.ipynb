{
 "cells": [
  {
   "cell_type": "code",
   "execution_count": 1,
   "id": "ea755567",
   "metadata": {},
   "outputs": [],
   "source": [
    "import pandas as pd\n",
    "import matplotlib.pyplot as plt\n",
    "import numpy as np\n",
    "import seaborn as sns\n",
    "\n",
    "from sklearn.model_selection import train_test_split\n",
    "from sklearn.ensemble import RandomForestClassifier, GradientBoostingClassifier\n",
    "from sklearn.metrics import f1_score, roc_auc_score\n",
    "from sklearn.metrics import accuracy_score, precision_score, recall_score, f1_score, roc_auc_score, confusion_matrix\n",
    "from sklearn.preprocessing import MinMaxScaler\n",
    "\n",
    "from scipy.stats import chi2_contingency\n",
    "\n",
    "from imblearn.over_sampling import RandomOverSampler\n",
    "\n",
    "pd.set_option('display.max_columns', None)\n",
    "pd.set_option('display.max_rows', None)\n",
    "\n",
    "import warnings\n",
    "warnings.simplefilter(action='ignore', category=FutureWarning)\n"
   ]
  },
  {
   "cell_type": "markdown",
   "id": "0cfe5a24",
   "metadata": {},
   "source": [
    "## Functions\n",
    "- The cell below holds functions that I have designed.\n",
    "I would usually store them within a script saved in /src but for the sake of this project I will \n",
    "store them in the below cell."
   ]
  },
  {
   "cell_type": "code",
   "execution_count": 2,
   "id": "87f71cb0",
   "metadata": {},
   "outputs": [],
   "source": [
    "def plot_histogram(df, column, bins=30):\n",
    "    plt.figure(figsize=(8,5))\n",
    "    plt.hist(df[column].dropna(), bins=bins, edgecolor='black', alpha=0.7)\n",
    "    plt.axvline(df[column].mean(), color='red', linestyle='--', label=f\"Mean: {df[column].mean():.2f}\")\n",
    "    plt.title(f\"Histogram of {column}\")\n",
    "    plt.xlabel(column)\n",
    "    plt.ylabel(\"Frequency\")\n",
    "    plt.legend()\n",
    "    plt.show()\n",
    "\n",
    "def calculate_proportions(df, column_name):\n",
    "    proportions = df[column_name].value_counts(normalize=True).round(3).sort_index(ascending=True)\n",
    "    return proportions\n",
    "\n",
    "def split_data(df, test_size=0.2):\n",
    "       ''' \n",
    "       This function splits the data into training and testing\n",
    "       datasets without allowing any leakage of horses\n",
    "       from the same race into either dataset.\n",
    "       '''\n",
    "       # Get unique races\n",
    "       unique_races = df['race_id'].unique()\n",
    "        \n",
    "       # Split the races into train and test sets\n",
    "       train_races, test_races = train_test_split(unique_races, test_size=test_size, shuffle=True, random_state=42)\n",
    "        \n",
    "       # Split the dataframe based on the race ids\n",
    "       train_data = df[df['race_id'].isin(train_races)]\n",
    "       test_data = df[df['race_id'].isin(test_races)]\n",
    "        \n",
    "       return train_data, test_data\n",
    "\n",
    "def normalize_columns(df, column_names):\n",
    "        \"\"\"\n",
    "        Normalize specified columns in a df using MinMaxScaler.\n",
    "        \n",
    "        Parameters:\n",
    "        df (pd.DataFrame): input df\n",
    "        column_names (list): list of column names to normalize\n",
    "\n",
    "        Returns:\n",
    "        pandas.DataFrame: DataFrame with specified columns normalized\n",
    "\n",
    "        Example Usage:\n",
    "        > normalized_df = DataCleaning.normalize_columns(df, ['A', 'B'])\n",
    "        \"\"\"\n",
    "        \n",
    "        scaler = MinMaxScaler()\n",
    "        df_normalized = df.copy()\n",
    "        df_normalized[column_names] = scaler.fit_transform(df[column_names])\n",
    "\n",
    "        return df_normalized\n",
    "\n",
    "def eval_classification_model(test_target, predictions):\n",
    "    # Evaluate the model\n",
    "    accuracy = accuracy_score(test_target, predictions)\n",
    "    precision = precision_score(test_target, predictions)\n",
    "    recall = recall_score(test_target, predictions)\n",
    "    f1 = f1_score(test_target, predictions)\n",
    "    roc_auc = roc_auc_score(test_target, predictions)\n",
    "    conf_matrix = confusion_matrix(test_target, predictions)\n",
    "    # [[True Negatives, False Positives], \n",
    "    #    [False Negatives, True Positives]]\n",
    "\n",
    "    return accuracy, precision, recall, f1, roc_auc, conf_matrix\n",
    "\n",
    "def print_metrics(test_target, predictions):\n",
    "    accuracy, precision, recall, f1, roc_auc, conf_matrix = eval_classification_model(test_target, predictions)\n",
    "    \n",
    "    print(f\"\\nConfusion Matrix: \\n{conf_matrix}\")\n",
    "    print(f\"Accuracy: {accuracy}\")\n",
    "    print(f'Precision: {precision}')\n",
    "    print(f'Recall: {recall}')\n",
    "    print(f'F1 score: {f1}')\n",
    "    print(f'ROC AUC score: {roc_auc}')\n",
    "\n",
    "def profit_calculation(df, stake = 1):\n",
    "    \"\"\"\n",
    "    Calculate ROI, total returns from the model predictions.\n",
    "\n",
    "    Args:\n",
    "        df (pd.Dataframe): A dataframe that has a column holding the model predictions\n",
    "        stake (int): The amount staked for each bet\n",
    "\n",
    "    Returns:\n",
    "        print() \n",
    "    \"\"\"\n",
    "    # Filter rows where model_preds == 1\n",
    "    bets = df[df['model_preds'] == 1].copy()\n",
    "\n",
    "    # Calculate returns\n",
    "    bets['Return'] = bets.apply(\n",
    "        lambda row: (row['obs__bsp'] - 1) * stake if row['obs__is_winner'] == 1 else -1,\n",
    "        axis=1\n",
    "    )\n",
    "\n",
    "    # Total return\n",
    "    total_return = bets['Return'].sum()\n",
    "\n",
    "    # total number of bets\n",
    "    total_bets = len(bets)\n",
    "\n",
    "    # Calculate accuracy: Percentage of correct predictions where the model predicted 1 and won\n",
    "    correct_predictions = bets[bets['obs__is_winner'] == 1].shape[0]\n",
    "\n",
    "    if total_bets > 0:\n",
    "        accuracy = (correct_predictions / total_bets) * 100  # Accuracy in percentage\n",
    "        return_per_pound = total_return / (total_bets * stake)\n",
    "    else:\n",
    "        accuracy = 0\n",
    "        return_per_pound = 0\n",
    "\n",
    "    print(f\"Total number of bets: {total_bets}\")\n",
    "    print(f\"Total return from betting £{stake:.2f} on each prediction where model_preds == 1: £{total_return:.2f}\")\n",
    "    print(f\"Return per pound invested: £{return_per_pound:.2f}\")\n",
    "    print(f\"Model accuracy: {accuracy:.2f}%\")\n",
    "\n",
    "def monte_carlo_simulation(race):\n",
    "    \"\"\"\n",
    "    race: DataFrame for a single race\n",
    "    Returns profit if we bet £1 on a horse selected probabilistically.\n",
    "    \"\"\"\n",
    "    # Choose a horse according to model probabilities\n",
    "    chosen_horse = race.sample(n=1, weights=race['pred_prob_norm'])\n",
    "    \n",
    "    # Compute profit: (BSP - 1) if win, -1 if lose\n",
    "    profit = (chosen_horse['obs__bsp'].values[0] - 1) if chosen_horse['obs__is_winner'].values[0] == 1 else -1\n",
    "    return profit"
   ]
  },
  {
   "cell_type": "code",
   "execution_count": 3,
   "id": "cf3021ed",
   "metadata": {},
   "outputs": [
    {
     "data": {
      "text/html": [
       "<div>\n",
       "<style scoped>\n",
       "    .dataframe tbody tr th:only-of-type {\n",
       "        vertical-align: middle;\n",
       "    }\n",
       "\n",
       "    .dataframe tbody tr th {\n",
       "        vertical-align: top;\n",
       "    }\n",
       "\n",
       "    .dataframe thead th {\n",
       "        text-align: right;\n",
       "    }\n",
       "</style>\n",
       "<table border=\"1\" class=\"dataframe\">\n",
       "  <thead>\n",
       "    <tr style=\"text-align: right;\">\n",
       "      <th></th>\n",
       "      <th>date</th>\n",
       "      <th>racecourse_country</th>\n",
       "      <th>racecourse_name</th>\n",
       "      <th>race_time</th>\n",
       "      <th>race_id</th>\n",
       "      <th>race_distance</th>\n",
       "      <th>race_type</th>\n",
       "      <th>race_type_simple</th>\n",
       "      <th>going_clean</th>\n",
       "      <th>n_runners</th>\n",
       "      <th>horse_id</th>\n",
       "      <th>horse_name</th>\n",
       "      <th>age</th>\n",
       "      <th>official_rating</th>\n",
       "      <th>carried_weight</th>\n",
       "      <th>draw</th>\n",
       "      <th>jockey_id</th>\n",
       "      <th>jockey_name</th>\n",
       "      <th>trainer_id</th>\n",
       "      <th>trainer_name</th>\n",
       "      <th>ltp_5min</th>\n",
       "      <th>obs__bsp</th>\n",
       "      <th>obs__racing_post_rating</th>\n",
       "      <th>obs__Place</th>\n",
       "      <th>obs__uposition</th>\n",
       "      <th>obs__is_winner</th>\n",
       "      <th>obs__top_speed</th>\n",
       "      <th>obs__distance_to_winner</th>\n",
       "      <th>obs__pos_prize</th>\n",
       "      <th>obs__completion_time</th>\n",
       "    </tr>\n",
       "  </thead>\n",
       "  <tbody>\n",
       "    <tr>\n",
       "      <th>0</th>\n",
       "      <td>2015-05-01</td>\n",
       "      <td>GB</td>\n",
       "      <td>Chepstow</td>\n",
       "      <td>13:40</td>\n",
       "      <td>49699</td>\n",
       "      <td>2435.0472</td>\n",
       "      <td>Flat</td>\n",
       "      <td>Flat Turf</td>\n",
       "      <td>Good</td>\n",
       "      <td>8</td>\n",
       "      <td>21374</td>\n",
       "      <td>Eton Rambler</td>\n",
       "      <td>5</td>\n",
       "      <td>73.0</td>\n",
       "      <td>59.874193</td>\n",
       "      <td>3</td>\n",
       "      <td>5362</td>\n",
       "      <td>Pat Cosgrave</td>\n",
       "      <td>375</td>\n",
       "      <td>George Baker</td>\n",
       "      <td>7.8</td>\n",
       "      <td>9.12</td>\n",
       "      <td>82.0</td>\n",
       "      <td>3</td>\n",
       "      <td>3</td>\n",
       "      <td>0</td>\n",
       "      <td>48.0</td>\n",
       "      <td>2.5</td>\n",
       "      <td>721.50</td>\n",
       "      <td>155.95</td>\n",
       "    </tr>\n",
       "    <tr>\n",
       "      <th>1</th>\n",
       "      <td>2015-05-01</td>\n",
       "      <td>GB</td>\n",
       "      <td>Chepstow</td>\n",
       "      <td>13:40</td>\n",
       "      <td>49699</td>\n",
       "      <td>2435.0472</td>\n",
       "      <td>Flat</td>\n",
       "      <td>Flat Turf</td>\n",
       "      <td>Good</td>\n",
       "      <td>8</td>\n",
       "      <td>21378</td>\n",
       "      <td>Shades Of Silver</td>\n",
       "      <td>5</td>\n",
       "      <td>69.0</td>\n",
       "      <td>58.059823</td>\n",
       "      <td>6</td>\n",
       "      <td>7227</td>\n",
       "      <td>William Twiston-Davies</td>\n",
       "      <td>367</td>\n",
       "      <td>Michael Scudamore</td>\n",
       "      <td>5.8</td>\n",
       "      <td>7.00</td>\n",
       "      <td>81.0</td>\n",
       "      <td>2</td>\n",
       "      <td>2</td>\n",
       "      <td>0</td>\n",
       "      <td>47.0</td>\n",
       "      <td>0.5</td>\n",
       "      <td>1443.75</td>\n",
       "      <td>155.61</td>\n",
       "    </tr>\n",
       "    <tr>\n",
       "      <th>2</th>\n",
       "      <td>2015-05-01</td>\n",
       "      <td>GB</td>\n",
       "      <td>Chepstow</td>\n",
       "      <td>13:40</td>\n",
       "      <td>49699</td>\n",
       "      <td>2435.0472</td>\n",
       "      <td>Flat</td>\n",
       "      <td>Flat Turf</td>\n",
       "      <td>Good</td>\n",
       "      <td>8</td>\n",
       "      <td>26461</td>\n",
       "      <td>Marengo</td>\n",
       "      <td>4</td>\n",
       "      <td>69.0</td>\n",
       "      <td>54.884677</td>\n",
       "      <td>8</td>\n",
       "      <td>12949</td>\n",
       "      <td>Jordan Williams</td>\n",
       "      <td>762</td>\n",
       "      <td>Bernard Llewellyn</td>\n",
       "      <td>12.0</td>\n",
       "      <td>9.28</td>\n",
       "      <td>45.0</td>\n",
       "      <td>8</td>\n",
       "      <td>8</td>\n",
       "      <td>0</td>\n",
       "      <td>11.0</td>\n",
       "      <td>23.0</td>\n",
       "      <td>0.00</td>\n",
       "      <td>159.36</td>\n",
       "    </tr>\n",
       "    <tr>\n",
       "      <th>3</th>\n",
       "      <td>2015-05-01</td>\n",
       "      <td>GB</td>\n",
       "      <td>Chepstow</td>\n",
       "      <td>13:40</td>\n",
       "      <td>49699</td>\n",
       "      <td>2435.0472</td>\n",
       "      <td>Flat</td>\n",
       "      <td>Flat Turf</td>\n",
       "      <td>Good</td>\n",
       "      <td>8</td>\n",
       "      <td>50069</td>\n",
       "      <td>Smoker</td>\n",
       "      <td>5</td>\n",
       "      <td>70.0</td>\n",
       "      <td>58.513416</td>\n",
       "      <td>2</td>\n",
       "      <td>5425</td>\n",
       "      <td>Oisin Murphy</td>\n",
       "      <td>126</td>\n",
       "      <td>Tim Vaughan</td>\n",
       "      <td>34.0</td>\n",
       "      <td>18.00</td>\n",
       "      <td>62.0</td>\n",
       "      <td>6</td>\n",
       "      <td>6</td>\n",
       "      <td>0</td>\n",
       "      <td>28.0</td>\n",
       "      <td>13.0</td>\n",
       "      <td>0.00</td>\n",
       "      <td>157.70</td>\n",
       "    </tr>\n",
       "    <tr>\n",
       "      <th>4</th>\n",
       "      <td>2015-05-01</td>\n",
       "      <td>GB</td>\n",
       "      <td>Chepstow</td>\n",
       "      <td>13:40</td>\n",
       "      <td>49699</td>\n",
       "      <td>2435.0472</td>\n",
       "      <td>Flat</td>\n",
       "      <td>Flat Turf</td>\n",
       "      <td>Good</td>\n",
       "      <td>8</td>\n",
       "      <td>102542</td>\n",
       "      <td>Symphony Of Kings</td>\n",
       "      <td>4</td>\n",
       "      <td>74.0</td>\n",
       "      <td>60.327785</td>\n",
       "      <td>4</td>\n",
       "      <td>5481</td>\n",
       "      <td>Adam Kirby</td>\n",
       "      <td>414</td>\n",
       "      <td>Tony Carroll</td>\n",
       "      <td>7.6</td>\n",
       "      <td>7.40</td>\n",
       "      <td>77.0</td>\n",
       "      <td>5</td>\n",
       "      <td>5</td>\n",
       "      <td>0</td>\n",
       "      <td>44.0</td>\n",
       "      <td>6.0</td>\n",
       "      <td>0.00</td>\n",
       "      <td>156.53</td>\n",
       "    </tr>\n",
       "  </tbody>\n",
       "</table>\n",
       "</div>"
      ],
      "text/plain": [
       "         date racecourse_country racecourse_name race_time  race_id  \\\n",
       "0  2015-05-01                 GB        Chepstow     13:40    49699   \n",
       "1  2015-05-01                 GB        Chepstow     13:40    49699   \n",
       "2  2015-05-01                 GB        Chepstow     13:40    49699   \n",
       "3  2015-05-01                 GB        Chepstow     13:40    49699   \n",
       "4  2015-05-01                 GB        Chepstow     13:40    49699   \n",
       "\n",
       "   race_distance race_type race_type_simple going_clean  n_runners  horse_id  \\\n",
       "0      2435.0472      Flat        Flat Turf        Good          8     21374   \n",
       "1      2435.0472      Flat        Flat Turf        Good          8     21378   \n",
       "2      2435.0472      Flat        Flat Turf        Good          8     26461   \n",
       "3      2435.0472      Flat        Flat Turf        Good          8     50069   \n",
       "4      2435.0472      Flat        Flat Turf        Good          8    102542   \n",
       "\n",
       "          horse_name  age  official_rating  carried_weight  draw  jockey_id  \\\n",
       "0       Eton Rambler    5             73.0       59.874193     3       5362   \n",
       "1   Shades Of Silver    5             69.0       58.059823     6       7227   \n",
       "2            Marengo    4             69.0       54.884677     8      12949   \n",
       "3             Smoker    5             70.0       58.513416     2       5425   \n",
       "4  Symphony Of Kings    4             74.0       60.327785     4       5481   \n",
       "\n",
       "              jockey_name  trainer_id       trainer_name  ltp_5min  obs__bsp  \\\n",
       "0            Pat Cosgrave         375       George Baker       7.8      9.12   \n",
       "1  William Twiston-Davies         367  Michael Scudamore       5.8      7.00   \n",
       "2         Jordan Williams         762  Bernard Llewellyn      12.0      9.28   \n",
       "3            Oisin Murphy         126        Tim Vaughan      34.0     18.00   \n",
       "4              Adam Kirby         414       Tony Carroll       7.6      7.40   \n",
       "\n",
       "   obs__racing_post_rating obs__Place  obs__uposition  obs__is_winner  \\\n",
       "0                     82.0          3               3               0   \n",
       "1                     81.0          2               2               0   \n",
       "2                     45.0          8               8               0   \n",
       "3                     62.0          6               6               0   \n",
       "4                     77.0          5               5               0   \n",
       "\n",
       "   obs__top_speed  obs__distance_to_winner  obs__pos_prize  \\\n",
       "0            48.0                      2.5          721.50   \n",
       "1            47.0                      0.5         1443.75   \n",
       "2            11.0                     23.0            0.00   \n",
       "3            28.0                     13.0            0.00   \n",
       "4            44.0                      6.0            0.00   \n",
       "\n",
       "   obs__completion_time  \n",
       "0                155.95  \n",
       "1                155.61  \n",
       "2                159.36  \n",
       "3                157.70  \n",
       "4                156.53  "
      ]
     },
     "execution_count": 3,
     "metadata": {},
     "output_type": "execute_result"
    }
   ],
   "source": [
    "df = pd.read_csv('test_dataset.csv')\n",
    "df.head()"
   ]
  },
  {
   "cell_type": "markdown",
   "id": "fbcad1d3",
   "metadata": {},
   "source": [
    "## Initial EDA"
   ]
  },
  {
   "cell_type": "code",
   "execution_count": 4,
   "id": "ed25bc29",
   "metadata": {},
   "outputs": [
    {
     "data": {
      "text/plain": [
       "date                        object\n",
       "racecourse_country          object\n",
       "racecourse_name             object\n",
       "race_time                   object\n",
       "race_id                      int64\n",
       "race_distance              float64\n",
       "race_type                   object\n",
       "race_type_simple            object\n",
       "going_clean                 object\n",
       "n_runners                    int64\n",
       "horse_id                     int64\n",
       "horse_name                  object\n",
       "age                          int64\n",
       "official_rating            float64\n",
       "carried_weight             float64\n",
       "draw                         int64\n",
       "jockey_id                    int64\n",
       "jockey_name                 object\n",
       "trainer_id                   int64\n",
       "trainer_name                object\n",
       "ltp_5min                   float64\n",
       "obs__bsp                   float64\n",
       "obs__racing_post_rating    float64\n",
       "obs__Place                  object\n",
       "obs__uposition               int64\n",
       "obs__is_winner               int64\n",
       "obs__top_speed             float64\n",
       "obs__distance_to_winner    float64\n",
       "obs__pos_prize             float64\n",
       "obs__completion_time       float64\n",
       "dtype: object"
      ]
     },
     "execution_count": 4,
     "metadata": {},
     "output_type": "execute_result"
    }
   ],
   "source": [
    "df.dtypes"
   ]
  },
  {
   "cell_type": "code",
   "execution_count": 5,
   "id": "29cb6f39",
   "metadata": {},
   "outputs": [
    {
     "data": {
      "text/plain": [
       "draw\n",
       "0    316024\n",
       "3     44689\n",
       "2     44624\n",
       "1     44624\n",
       "4     44359\n",
       "5     43663\n",
       "6     41756\n",
       "7     38632\n",
       "8     34433\n",
       "9     29517\n",
       "Name: count, dtype: int64"
      ]
     },
     "execution_count": 5,
     "metadata": {},
     "output_type": "execute_result"
    }
   ],
   "source": [
    "# returns a list of unique values\n",
    "df[\"draw\"].value_counts().head(10)"
   ]
  },
  {
   "cell_type": "code",
   "execution_count": 6,
   "id": "d4998b37",
   "metadata": {},
   "outputs": [
    {
     "data": {
      "text/plain": [
       "draw\n",
       "0    316024\n",
       "3     44689\n",
       "2     44624\n",
       "1     44624\n",
       "4     44359\n",
       "5     43663\n",
       "6     41756\n",
       "7     38632\n",
       "8     34433\n",
       "9     29517\n",
       "Name: count, dtype: int64"
      ]
     },
     "execution_count": 6,
     "metadata": {},
     "output_type": "execute_result"
    }
   ],
   "source": [
    "# returns a list of unique values\n",
    "df[\"draw\"].value_counts().head(10)\n"
   ]
  },
  {
   "cell_type": "markdown",
   "id": "be4673df",
   "metadata": {},
   "source": [
    "We can see that there is a high number of values with a draw value of 0. From my experience draw values are 1 or greater (for flat races).\n",
    "This warrants further investigation as 'Draw' is known to have a major impact on the probabilities \n",
    "of horses winning at particular tracks and particular distances in flat races.\n",
    "\n",
    "We are going to investigate if any flat races are affected by 'draw' == 0."
   ]
  },
  {
   "cell_type": "code",
   "execution_count": 7,
   "id": "b9fa8f44",
   "metadata": {},
   "outputs": [
    {
     "name": "stdout",
     "output_type": "stream",
     "text": [
      "race_type_simple\n",
      "Hurdle       18471\n",
      "Chase        12055\n",
      "Flat Turf     3075\n",
      "Flat AW        174\n",
      "Name: has_draw_zero, dtype: int64\n"
     ]
    }
   ],
   "source": [
    "# Group by race_id and race_type_simple, then check if any draw == 0 in that race\n",
    "draw_zero_races = (\n",
    "    df.groupby(['race_id', 'race_type_simple'])['draw']\n",
    "      .apply(lambda x: (x == 0).any())\n",
    "      .reset_index(name='has_draw_zero')\n",
    ")\n",
    "\n",
    "# Now see which race types have races with draw == 0\n",
    "draw_zero_counts = draw_zero_races.groupby('race_type_simple')['has_draw_zero'].sum().sort_values(ascending=False)\n",
    "print(draw_zero_counts)"
   ]
  },
  {
   "cell_type": "markdown",
   "id": "bbc201ec",
   "metadata": {},
   "source": [
    "### Display a histogram showing counts of field sizes."
   ]
  },
  {
   "cell_type": "code",
   "execution_count": 8,
   "id": "f39f8b74",
   "metadata": {},
   "outputs": [
    {
     "data": {
      "image/png": "[encoded data removed]",
      "text/plain": [
       "<Figure size 800x500 with 1 Axes>"
      ]
     },
     "metadata": {},
     "output_type": "display_data"
    }
   ],
   "source": [
    "plot_histogram(df, \"n_runners\")\n"
   ]
  },
  {
   "cell_type": "markdown",
   "id": "2b07229c",
   "metadata": {},
   "source": [
    "### Display a histogram showing counts of age of runners."
   ]
  },
  {
   "cell_type": "code",
   "execution_count": 9,
   "id": "50ee0594",
   "metadata": {},
   "outputs": [
    {
     "data": {
      "image/png": "[encoded data removed]",
      "text/plain": [
       "<Figure size 800x500 with 1 Axes>"
      ]
     },
     "metadata": {},
     "output_type": "display_data"
    }
   ],
   "source": [
    "plot_histogram(df,'age')"
   ]
  },
  {
   "cell_type": "markdown",
   "id": "b1914ae0",
   "metadata": {},
   "source": [
    "## Data Cleaning and Feature Engineering"
   ]
  },
  {
   "cell_type": "markdown",
   "id": "00cb30ea",
   "metadata": {},
   "source": [
    "With the numeric columns, it is essential that there are no NaN values.\n",
    "With the numeric columns all NaN's will be replaced with 0."
   ]
  },
  {
   "cell_type": "code",
   "execution_count": 10,
   "id": "a91f8631",
   "metadata": {},
   "outputs": [],
   "source": [
    "numeric_cols = df.select_dtypes(include=['number']).columns\n",
    "df[numeric_cols] = df[numeric_cols].fillna(0)"
   ]
  },
  {
   "cell_type": "markdown",
   "id": "0ea22685",
   "metadata": {},
   "source": [
    "### Draw IV"
   ]
  },
  {
   "cell_type": "markdown",
   "id": "2b73ff43",
   "metadata": {},
   "source": [
    "This feature is used to show the impact value of a draw\n",
    "by 'racecourse_name', 'race_distance', 'race_type' and 'going_clean'. I have done this as previous analysis\n",
    "has shown the significant impact that stall number has for flat races at particular racetracks.\n",
    "\n",
    "Due to the large number of flat races where we don't have values for 'draw' I may not use this in the modelling \n",
    "but I felt it was an important area to highlight for this assessment."
   ]
  },
  {
   "cell_type": "code",
   "execution_count": 11,
   "id": "a5ef097c",
   "metadata": {},
   "outputs": [
    {
     "data": {
      "text/html": [
       "<div>\n",
       "<style scoped>\n",
       "    .dataframe tbody tr th:only-of-type {\n",
       "        vertical-align: middle;\n",
       "    }\n",
       "\n",
       "    .dataframe tbody tr th {\n",
       "        vertical-align: top;\n",
       "    }\n",
       "\n",
       "    .dataframe thead th {\n",
       "        text-align: right;\n",
       "    }\n",
       "</style>\n",
       "<table border=\"1\" class=\"dataframe\">\n",
       "  <thead>\n",
       "    <tr style=\"text-align: right;\">\n",
       "      <th></th>\n",
       "      <th>date</th>\n",
       "      <th>race_time</th>\n",
       "      <th>racecourse_name</th>\n",
       "      <th>horse_name</th>\n",
       "      <th>draw</th>\n",
       "      <th>draw_iv</th>\n",
       "    </tr>\n",
       "  </thead>\n",
       "  <tbody>\n",
       "    <tr>\n",
       "      <th>0</th>\n",
       "      <td>2015-05-01</td>\n",
       "      <td>13:40</td>\n",
       "      <td>Chepstow</td>\n",
       "      <td>Eton Rambler</td>\n",
       "      <td>3</td>\n",
       "      <td>0.000000</td>\n",
       "    </tr>\n",
       "    <tr>\n",
       "      <th>1</th>\n",
       "      <td>2015-05-01</td>\n",
       "      <td>13:40</td>\n",
       "      <td>Chepstow</td>\n",
       "      <td>Shades Of Silver</td>\n",
       "      <td>6</td>\n",
       "      <td>0.854545</td>\n",
       "    </tr>\n",
       "    <tr>\n",
       "      <th>2</th>\n",
       "      <td>2015-05-01</td>\n",
       "      <td>13:40</td>\n",
       "      <td>Chepstow</td>\n",
       "      <td>Marengo</td>\n",
       "      <td>8</td>\n",
       "      <td>0.000000</td>\n",
       "    </tr>\n",
       "    <tr>\n",
       "      <th>3</th>\n",
       "      <td>2015-05-01</td>\n",
       "      <td>13:40</td>\n",
       "      <td>Chepstow</td>\n",
       "      <td>Smoker</td>\n",
       "      <td>2</td>\n",
       "      <td>0.854545</td>\n",
       "    </tr>\n",
       "    <tr>\n",
       "      <th>4</th>\n",
       "      <td>2015-05-01</td>\n",
       "      <td>13:40</td>\n",
       "      <td>Chepstow</td>\n",
       "      <td>Symphony Of Kings</td>\n",
       "      <td>4</td>\n",
       "      <td>1.709091</td>\n",
       "    </tr>\n",
       "    <tr>\n",
       "      <th>5</th>\n",
       "      <td>2015-05-01</td>\n",
       "      <td>13:40</td>\n",
       "      <td>Chepstow</td>\n",
       "      <td>The Holyman</td>\n",
       "      <td>5</td>\n",
       "      <td>0.000000</td>\n",
       "    </tr>\n",
       "    <tr>\n",
       "      <th>6</th>\n",
       "      <td>2015-05-01</td>\n",
       "      <td>13:40</td>\n",
       "      <td>Chepstow</td>\n",
       "      <td>May Be Some Time</td>\n",
       "      <td>7</td>\n",
       "      <td>0.949495</td>\n",
       "    </tr>\n",
       "    <tr>\n",
       "      <th>7</th>\n",
       "      <td>2015-05-01</td>\n",
       "      <td>13:40</td>\n",
       "      <td>Chepstow</td>\n",
       "      <td>Air Squadron</td>\n",
       "      <td>1</td>\n",
       "      <td>1.553719</td>\n",
       "    </tr>\n",
       "    <tr>\n",
       "      <th>8</th>\n",
       "      <td>2015-05-01</td>\n",
       "      <td>13:50</td>\n",
       "      <td>Musselburgh</td>\n",
       "      <td>Copacobana</td>\n",
       "      <td>4</td>\n",
       "      <td>1.627614</td>\n",
       "    </tr>\n",
       "    <tr>\n",
       "      <th>9</th>\n",
       "      <td>2015-05-01</td>\n",
       "      <td>13:50</td>\n",
       "      <td>Musselburgh</td>\n",
       "      <td>Sadie Babes</td>\n",
       "      <td>3</td>\n",
       "      <td>0.969925</td>\n",
       "    </tr>\n",
       "  </tbody>\n",
       "</table>\n",
       "</div>"
      ],
      "text/plain": [
       "         date race_time racecourse_name         horse_name  draw   draw_iv\n",
       "0  2015-05-01     13:40        Chepstow       Eton Rambler     3  0.000000\n",
       "1  2015-05-01     13:40        Chepstow   Shades Of Silver     6  0.854545\n",
       "2  2015-05-01     13:40        Chepstow            Marengo     8  0.000000\n",
       "3  2015-05-01     13:40        Chepstow             Smoker     2  0.854545\n",
       "4  2015-05-01     13:40        Chepstow  Symphony Of Kings     4  1.709091\n",
       "5  2015-05-01     13:40        Chepstow        The Holyman     5  0.000000\n",
       "6  2015-05-01     13:40        Chepstow   May Be Some Time     7  0.949495\n",
       "7  2015-05-01     13:40        Chepstow       Air Squadron     1  1.553719\n",
       "8  2015-05-01     13:50     Musselburgh         Copacobana     4  1.627614\n",
       "9  2015-05-01     13:50     Musselburgh        Sadie Babes     3  0.969925"
      ]
     },
     "execution_count": 11,
     "metadata": {},
     "output_type": "execute_result"
    }
   ],
   "source": [
    "# create a draw IV feature.\n",
    "\n",
    "# Columns: racecourse_name, race_distance, race_type, going_clean, draw, obs__is_winner\n",
    "group_cols = ['racecourse_name', 'race_distance', 'race_type', 'going_clean', 'draw']\n",
    "\n",
    "draw_stats = df.groupby(group_cols)['obs__is_winner'].agg(['sum', 'count']).reset_index()\n",
    "draw_stats['win_pct'] = draw_stats['sum'] / draw_stats['count']\n",
    "\n",
    "# Overall win rate per race conditions\n",
    "overall_win_pct = df.groupby(['racecourse_name', 'race_distance', 'race_type', 'going_clean'])['obs__is_winner'].mean().reset_index()\n",
    "overall_win_pct = overall_win_pct.rename(columns={'obs__is_winner':'overall_win_pct'})\n",
    "\n",
    "# Merge with draw stats\n",
    "draw_stats = draw_stats.merge(overall_win_pct, on=['racecourse_name', 'race_distance', 'race_type', 'going_clean'])\n",
    "draw_stats['draw_iv'] = draw_stats['win_pct'] / draw_stats['overall_win_pct']\n",
    "\n",
    "df = df.merge(draw_stats[['racecourse_name', 'race_distance', 'race_type', 'going_clean','draw', 'draw_iv']], \n",
    "              on=['racecourse_name', 'race_distance', 'race_type', 'going_clean', 'draw'], \n",
    "              how='left')\n",
    "\n",
    "df[['date', 'race_time','racecourse_name', 'horse_name','draw', 'draw_iv']].head(10)"
   ]
  },
  {
   "cell_type": "markdown",
   "id": "18168b56",
   "metadata": {},
   "source": [
    "### Previous max speed\n",
    "- Derive a feature from previous starts. This the maximum speed reached by a horse in previous starts, for certain types of races (especially sprint races) this a key metric.\n",
    "- Could look at average career, average from last 3 starts, etc."
   ]
  },
  {
   "cell_type": "code",
   "execution_count": 12,
   "id": "b6d53401",
   "metadata": {},
   "outputs": [],
   "source": [
    "# Store original index\n",
    "df['original_index'] = df.index\n",
    "\n",
    "# Ensure obs__top_speed NaNs are 0\n",
    "df['obs__top_speed'] = df['obs__top_speed'].fillna(0)\n",
    "\n",
    "# Sort by horse and date\n",
    "df = df.sort_values(['horse_id', 'date'])\n",
    "\n",
    "# Compute max_top_speed_prev per horse\n",
    "df['max_top_speed_prev'] = df.groupby('horse_id')['obs__top_speed'].transform(\n",
    "    lambda s: s.shift(1).cummax().fillna(0)\n",
    ")\n",
    "\n",
    "# Restore original order\n",
    "df = df.sort_values('original_index').drop(columns=['original_index']).reset_index(drop=True)"
   ]
  },
  {
   "cell_type": "markdown",
   "id": "bebbc263",
   "metadata": {},
   "source": [
    "### Previous wins on this going\n",
    "- Create a binary feature which shows if a horse has previously won on this going."
   ]
  },
  {
   "cell_type": "code",
   "execution_count": 13,
   "id": "7f2f5095",
   "metadata": {},
   "outputs": [],
   "source": [
    "# Store original index\n",
    "df['original_index'] = df.index\n",
    "\n",
    "# Ensure the dataframe is sorted by horse and date\n",
    "df = df.sort_values(['horse_id', 'date'])\n",
    "\n",
    "df['won_on_going_prev'] = (\n",
    "    df.groupby(['horse_id', 'going_clean'])['obs__is_winner']\n",
    "      .transform(lambda x: x.shift().cummax().fillna(0))\n",
    ")\n",
    "\n",
    "# Restore original order\n",
    "df = df.sort_values('original_index').drop(columns=['original_index']).reset_index(drop=True)"
   ]
  },
  {
   "cell_type": "markdown",
   "id": "812ab95d",
   "metadata": {},
   "source": [
    "### Create rank columns\n",
    "- I am going to create some features that are derived from existing features in the dataset that could be useful for \n",
    "creating models with greater powers of prediction.\n",
    "- This allows us to use a horses relative rank in a model instead of it's absolute value,\n",
    "this can be very useful when a horse is moving between classes.\n",
    "- ltp_rank is derived from the ltp_5min column as the starting price is given at the off and we would need to utilize the model before the race starts."
   ]
  },
  {
   "cell_type": "markdown",
   "id": "9502dc6f",
   "metadata": {},
   "source": [
    "### Create a feature that indicates the rank of ltp_5min for each horse, race combination"
   ]
  },
  {
   "cell_type": "code",
   "execution_count": 77,
   "id": "bd005806",
   "metadata": {},
   "outputs": [],
   "source": [
    "df['ltp_rank'] = (\n",
    "    df.groupby(['date', 'racecourse_name', 'race_time'])['ltp_5min']\n",
    "    .rank(method='min', ascending=True)\n",
    ")"
   ]
  },
  {
   "cell_type": "markdown",
   "id": "74f03105",
   "metadata": {},
   "source": [
    "### Create a feature that indicates the rank of official_rating for each horse, race combination\n"
   ]
  },
  {
   "cell_type": "code",
   "execution_count": 78,
   "id": "90bfb453",
   "metadata": {},
   "outputs": [],
   "source": [
    "df['rating_rank'] = (\n",
    "    df.groupby(['date', 'racecourse_name', 'race_time'])['official_rating']\n",
    "    .rank(method='min', ascending=False)\n",
    ")"
   ]
  },
  {
   "cell_type": "markdown",
   "id": "a2991231",
   "metadata": {},
   "source": [
    "### Create a column that shows the career max speed achieved by a horse"
   ]
  },
  {
   "cell_type": "code",
   "execution_count": 79,
   "id": "dd3f1ff1",
   "metadata": {},
   "outputs": [],
   "source": [
    "# Store original index\n",
    "df['original_index'] = df.index\n",
    "\n",
    "# Ensure obs__top_speed NaNs are 0\n",
    "df['obs__top_speed'] = df['obs__top_speed'].fillna(0)\n",
    "\n",
    "# Sort by horse and date\n",
    "df = df.sort_values(['horse_id', 'date'])\n",
    "\n",
    "# Compute max_top_speed_prev per horse\n",
    "df['max_top_speed_prev'] = df.groupby('horse_id')['obs__top_speed'].transform(\n",
    "    lambda s: s.shift(1).cummax().fillna(0)\n",
    ")\n",
    "\n",
    "# Restore original order\n",
    "df = df.sort_values('original_index').drop(columns=['original_index']).reset_index(drop=True)\n"
   ]
  },
  {
   "cell_type": "markdown",
   "id": "ba78e5a6",
   "metadata": {},
   "source": [
    "### Calculate the amount of prize money won in previous starts."
   ]
  },
  {
   "cell_type": "code",
   "execution_count": 80,
   "id": "6969b0a7",
   "metadata": {},
   "outputs": [],
   "source": [
    "# Store original index\n",
    "df['original_index'] = df.index\n",
    "\n",
    "# Ensure prize column has no NaNs\n",
    "df['obs__pos_prize'] = df['obs__pos_prize'].fillna(0)\n",
    "\n",
    "# Sort by horse and date\n",
    "df = df.sort_values(['horse_id', 'date'])\n",
    "\n",
    "# Compute cumulative prize money per horse, excluding current race\n",
    "df['horse_cum_prize_prev'] = df.groupby('horse_id')['obs__pos_prize'].transform(\n",
    "    lambda s: s.shift(1).cumsum().fillna(0)\n",
    ")\n",
    "\n",
    "# Restore original order\n",
    "df = df.sort_values('original_index').drop(columns=['original_index']).reset_index(drop=True)"
   ]
  },
  {
   "cell_type": "markdown",
   "id": "63f353fd",
   "metadata": {},
   "source": [
    "### Calculate the number of previous starts."
   ]
  },
  {
   "cell_type": "code",
   "execution_count": 81,
   "id": "0a6959ed",
   "metadata": {},
   "outputs": [],
   "source": [
    "# Store original index\n",
    "df['original_index'] = df.index\n",
    "\n",
    "# Sort by horse and date\n",
    "df = df.sort_values(['horse_id', 'date'])\n",
    "\n",
    "# Compute cumulative starts per horse, excluding current race\n",
    "df['horse_cum_starts_prev'] = df.groupby('horse_id').cumcount().fillna(0)\n",
    "\n",
    "# Restore original order\n",
    "df = df.sort_values('original_index').drop(columns=['original_index']).reset_index(drop=True)\n"
   ]
  },
  {
   "cell_type": "markdown",
   "id": "c2d5efee",
   "metadata": {},
   "source": [
    "### Calculate the average prize money won per start\n",
    "- This can help to compare horses that have run in different classes, \n",
    "for example a horse that has placed in class 1 vs a horse that has won in class 2.\n",
    "- I believe this is an important metric to help determine the 'class' of a runner."
   ]
  },
  {
   "cell_type": "code",
   "execution_count": 82,
   "id": "705ae964",
   "metadata": {},
   "outputs": [],
   "source": [
    "df['ave_prize_per_start'] = (df['horse_cum_prize_prev'] / df['horse_cum_starts_prev']).round().fillna(0)"
   ]
  },
  {
   "cell_type": "markdown",
   "id": "2fb56e42",
   "metadata": {},
   "source": [
    "### Calculate an avg. PRB metric\n",
    "- PRB == percentage of rivals beaten.\n",
    "- Very important to note that avg_prb is a historical measure, it is calculated on past performances.\n",
    "- This helps us to understand the merits of unplaced runs, for example finishing 5 of 16 is a vastly \n",
    "different performance than finishing 5 of 6."
   ]
  },
  {
   "cell_type": "code",
   "execution_count": 83,
   "id": "ca082ee9",
   "metadata": {},
   "outputs": [],
   "source": [
    "df['prb'] = (df['n_runners'] - df['obs__uposition']) / (df['n_runners'] - 1)\n",
    "\n",
    "# Sort by horse and date to ensure correct cumulative calculation\n",
    "df = df.sort_values(['horse_id', 'date'])\n",
    "\n",
    "# Compute cumulative average PRB per horse, ignoring current race\n",
    "df['avg_prb'] = df.groupby('horse_id')['prb'].transform(\n",
    "    lambda x: x.shift(1).expanding().mean().fillna(0).round(2)\n",
    ")\n"
   ]
  },
  {
   "cell_type": "markdown",
   "id": "24bca35b",
   "metadata": {},
   "source": [
    "## EDA"
   ]
  },
  {
   "cell_type": "markdown",
   "id": "57dbab44",
   "metadata": {},
   "source": [
    "### Look at the proportions for various features"
   ]
  },
  {
   "cell_type": "markdown",
   "id": "aa1fd04d",
   "metadata": {},
   "source": [
    "Below we can see at 34.2% of the time, across all race types that the horse with the lowest value for 'ltp_5min' (ie, the favourite)\n",
    "will win the race."
   ]
  },
  {
   "cell_type": "code",
   "execution_count": 84,
   "id": "c14bc259",
   "metadata": {},
   "outputs": [
    {
     "data": {
      "text/plain": [
       "ltp_rank\n",
       "1.0     0.342\n",
       "2.0     0.202\n",
       "3.0     0.138\n",
       "4.0     0.097\n",
       "5.0     0.071\n",
       "6.0     0.049\n",
       "7.0     0.034\n",
       "8.0     0.024\n",
       "9.0     0.015\n",
       "10.0    0.010\n",
       "Name: proportion, dtype: float64"
      ]
     },
     "execution_count": 84,
     "metadata": {},
     "output_type": "execute_result"
    }
   ],
   "source": [
    "winners = df[df['obs__is_winner'] == 1]\n",
    "\n",
    "win_props = calculate_proportions(winners, 'ltp_rank')\n",
    "win_props.head(10)"
   ]
  },
  {
   "cell_type": "markdown",
   "id": "5411f4e4",
   "metadata": {},
   "source": [
    "Below we can see that 32.6% of the time, across all race types that the horse with the highest value for 'official_rating'\n",
    "will win the race."
   ]
  },
  {
   "cell_type": "code",
   "execution_count": 85,
   "id": "2b41b790",
   "metadata": {},
   "outputs": [
    {
     "data": {
      "text/plain": [
       "rating_rank\n",
       "1.0     0.326\n",
       "2.0     0.166\n",
       "3.0     0.121\n",
       "4.0     0.093\n",
       "5.0     0.074\n",
       "6.0     0.059\n",
       "7.0     0.046\n",
       "8.0     0.034\n",
       "9.0     0.025\n",
       "10.0    0.019\n",
       "Name: proportion, dtype: float64"
      ]
     },
     "execution_count": 85,
     "metadata": {},
     "output_type": "execute_result"
    }
   ],
   "source": [
    "rating_props = calculate_proportions(winners, 'rating_rank')\n",
    "rating_props.head(10)"
   ]
  },
  {
   "cell_type": "markdown",
   "id": "c164f35f",
   "metadata": {},
   "source": [
    "# Investigate the peak age of horses"
   ]
  },
  {
   "cell_type": "markdown",
   "id": "a82b92ff",
   "metadata": {},
   "source": [
    "### Chi squared test\n",
    "- For this exercise I firstly want to see if horse age affects the win rate within each race type.\n",
    "- I will create a contigency table and then compute the chi sq. values to see if age is statistically significant.\n",
    "- If the p-value is less than 0.05, winning is strongly associated with age."
   ]
  },
  {
   "cell_type": "code",
   "execution_count": 86,
   "id": "45937c3e",
   "metadata": {},
   "outputs": [
    {
     "name": "stdout",
     "output_type": "stream",
     "text": [
      "  race_type_simple        chi2        p_value  degrees_of_freedom\n",
      "0           Hurdle  425.246654   6.019582e-82                  14\n",
      "1        Flat Turf  512.948608   1.028918e-99                  15\n",
      "2          Flat AW  332.420077   1.987814e-62                  14\n",
      "3            Chase  605.583029  4.946765e-121                  13\n"
     ]
    }
   ],
   "source": [
    "results = []\n",
    "\n",
    "for race_type in df['race_type_simple'].unique():\n",
    "    df_sub = df[df['race_type_simple'] == race_type]\n",
    "    \n",
    "    # Create contingency table: rows=age, columns=win/loss\n",
    "    contingency = pd.crosstab(df_sub['age'], df_sub['obs__is_winner'])\n",
    "    \n",
    "    # Skip if there are not enough observations\n",
    "    if contingency.sum().sum() < 10:\n",
    "        continue\n",
    "    \n",
    "    # Chi-squared test\n",
    "    chi2, p, dof, expected = chi2_contingency(contingency)\n",
    "    \n",
    "    results.append({\n",
    "        'race_type_simple': race_type,\n",
    "        'chi2': chi2,\n",
    "        'p_value': p,\n",
    "        'degrees_of_freedom': dof\n",
    "    })\n",
    "\n",
    "# Convert results to DataFrame\n",
    "chi2_results = pd.DataFrame(results)\n",
    "\n",
    "print(chi2_results)\n"
   ]
  },
  {
   "cell_type": "markdown",
   "id": "2f4612ba",
   "metadata": {},
   "source": [
    "The analysis below shows p-values < than 0.05. Across all race types, winning is strongly associated with age."
   ]
  },
  {
   "cell_type": "markdown",
   "id": "6e8283aa",
   "metadata": {},
   "source": [
    "### Determine the peak age by the proportion of winners to runners."
   ]
  },
  {
   "cell_type": "code",
   "execution_count": 87,
   "id": "8f8d25df",
   "metadata": {},
   "outputs": [
    {
     "name": "stdout",
     "output_type": "stream",
     "text": [
      "   race_type_simple  peak_age  peak_win_rate  peak_age_roi\n",
      "0             Chase         4       0.190317      0.094073\n",
      "27          Flat AW        15       0.142857      3.000000\n",
      "31        Flat Turf         3       0.115186     -0.002965\n",
      "58           Hurdle        16       0.166667      1.000000\n"
     ]
    }
   ],
   "source": [
    "# Calculate profit per horse\n",
    "df['profit'] = df.apply(\n",
    "    lambda row: row['obs__bsp'] - 1 if row['obs__is_winner'] == 1 else -1,\n",
    "    axis=1\n",
    ")\n",
    "\n",
    "# Group by race type and age, calculate win rate and ROI\n",
    "performance_age = (\n",
    "    df.groupby(['race_type_simple', 'age'])\n",
    "    .agg(\n",
    "        runs=('obs__is_winner', 'count'),\n",
    "        wins=('obs__is_winner', 'sum'),\n",
    "        roi=('profit', 'mean')  # average profit per £1 bet\n",
    "    )\n",
    "    .reset_index()\n",
    ")\n",
    "\n",
    "performance_age['win_rate'] = performance_age['wins'] / performance_age['runs']\n",
    "\n",
    "# Find the age with highest win rate for each race type\n",
    "peak_age_per_type = performance_age.loc[\n",
    "    performance_age.groupby('race_type_simple')['win_rate'].idxmax(),\n",
    "    ['race_type_simple', 'age', 'win_rate', 'roi']\n",
    "].rename(columns={\n",
    "    'age': 'peak_age', \n",
    "    'win_rate': 'peak_win_rate',\n",
    "    'roi': 'peak_age_roi'\n",
    "})\n",
    "\n",
    "print(peak_age_per_type)"
   ]
  },
  {
   "cell_type": "markdown",
   "id": "188d8fbe",
   "metadata": {},
   "source": [
    "It is really interesting to see peak ages of 15 for Flat AW and 16 for Hurdle race types. This needs further investigating as my gut feeling is that this is an anamoly of some description"
   ]
  },
  {
   "cell_type": "code",
   "execution_count": 88,
   "id": "1300108b",
   "metadata": {},
   "outputs": [
    {
     "data": {
      "text/html": [
       "<div>\n",
       "<style scoped>\n",
       "    .dataframe tbody tr th:only-of-type {\n",
       "        vertical-align: middle;\n",
       "    }\n",
       "\n",
       "    .dataframe tbody tr th {\n",
       "        vertical-align: top;\n",
       "    }\n",
       "\n",
       "    .dataframe thead th {\n",
       "        text-align: right;\n",
       "    }\n",
       "</style>\n",
       "<table border=\"1\" class=\"dataframe\">\n",
       "  <thead>\n",
       "    <tr style=\"text-align: right;\">\n",
       "      <th></th>\n",
       "      <th>race_type_simple</th>\n",
       "      <th>age</th>\n",
       "      <th>runs</th>\n",
       "      <th>wins</th>\n",
       "      <th>roi</th>\n",
       "      <th>win_rate</th>\n",
       "    </tr>\n",
       "  </thead>\n",
       "  <tbody>\n",
       "    <tr>\n",
       "      <th>0</th>\n",
       "      <td>Chase</td>\n",
       "      <td>4</td>\n",
       "      <td>599</td>\n",
       "      <td>114</td>\n",
       "      <td>0.094073</td>\n",
       "      <td>0.190317</td>\n",
       "    </tr>\n",
       "    <tr>\n",
       "      <th>27</th>\n",
       "      <td>Flat AW</td>\n",
       "      <td>15</td>\n",
       "      <td>7</td>\n",
       "      <td>1</td>\n",
       "      <td>3.000000</td>\n",
       "      <td>0.142857</td>\n",
       "    </tr>\n",
       "    <tr>\n",
       "      <th>31</th>\n",
       "      <td>Flat Turf</td>\n",
       "      <td>3</td>\n",
       "      <td>96479</td>\n",
       "      <td>11113</td>\n",
       "      <td>-0.002965</td>\n",
       "      <td>0.115186</td>\n",
       "    </tr>\n",
       "    <tr>\n",
       "      <th>58</th>\n",
       "      <td>Hurdle</td>\n",
       "      <td>16</td>\n",
       "      <td>6</td>\n",
       "      <td>1</td>\n",
       "      <td>1.000000</td>\n",
       "      <td>0.166667</td>\n",
       "    </tr>\n",
       "  </tbody>\n",
       "</table>\n",
       "</div>"
      ],
      "text/plain": [
       "   race_type_simple  age   runs   wins       roi  win_rate\n",
       "0             Chase    4    599    114  0.094073  0.190317\n",
       "27          Flat AW   15      7      1  3.000000  0.142857\n",
       "31        Flat Turf    3  96479  11113 -0.002965  0.115186\n",
       "58           Hurdle   16      6      1  1.000000  0.166667"
      ]
     },
     "execution_count": 88,
     "metadata": {},
     "output_type": "execute_result"
    }
   ],
   "source": [
    "performance_age.loc[[0,27,31,58]]"
   ]
  },
  {
   "cell_type": "markdown",
   "id": "41b0aa59",
   "metadata": {},
   "source": [
    "The output above shows really small sample sizes for age 15 and Flat AW as well as age 16 and Hurdle.\n",
    "\n"
   ]
  },
  {
   "cell_type": "markdown",
   "id": "eb2c24e8",
   "metadata": {},
   "source": [
    "### Re run peak age analysis with a minimum number of runner's threshold.\n",
    "- I have set minimum runs to 30 per age, race type grouping."
   ]
  },
  {
   "cell_type": "code",
   "execution_count": 89,
   "id": "d4a996f3",
   "metadata": {},
   "outputs": [
    {
     "name": "stdout",
     "output_type": "stream",
     "text": [
      "   race_type_simple  peak_age  peak_win_rate  peak_age_roi\n",
      "0             Chase         4       0.190317      0.094073\n",
      "15          Flat AW         3       0.115068      0.012715\n",
      "31        Flat Turf         3       0.115186     -0.002965\n",
      "48           Hurdle         6       0.113307     -0.071038\n"
     ]
    }
   ],
   "source": [
    "min_runs = 30\n",
    "\n",
    "# Calculate profit per horse\n",
    "df['profit'] = df.apply(\n",
    "    lambda row: row['obs__bsp'] - 1 if row['obs__is_winner'] == 1 else -1,\n",
    "    axis=1\n",
    ")\n",
    "\n",
    "# Group by race type and age, calculate win rate and ROI\n",
    "performance_age = (\n",
    "    df.groupby(['race_type_simple', 'age'])\n",
    "    .agg(\n",
    "        runs=('obs__is_winner', 'count'),\n",
    "        wins=('obs__is_winner', 'sum'),\n",
    "        roi=('profit', 'mean')  # average profit per £1 bet\n",
    "    )\n",
    "    .reset_index()\n",
    ")\n",
    "\n",
    "performance_age['win_rate'] = performance_age['wins'] / performance_age['runs']\n",
    "performance_age_filtered = performance_age[performance_age['runs'] >= min_runs]\n",
    "\n",
    "# Find the age with highest win rate for each race type\n",
    "peak_age_per_type = performance_age_filtered.loc[\n",
    "    performance_age_filtered.groupby('race_type_simple')['win_rate'].idxmax(),\n",
    "    ['race_type_simple', 'age', 'win_rate', 'roi']\n",
    "].rename(columns={\n",
    "    'age': 'peak_age', \n",
    "    'win_rate': 'peak_win_rate',\n",
    "    'roi': 'peak_age_roi'\n",
    "})\n",
    "\n",
    "print(peak_age_per_type)"
   ]
  },
  {
   "cell_type": "markdown",
   "id": "deb9110c",
   "metadata": {},
   "source": [
    "Blindly backing to a fixed stake would result in a negative ROI for Flat Turf and Hurdle.\n",
    "\n",
    "We have to be really careful using this analysis due the nature of racing. Horses will sometimes compete only against horses of their own age (particulary 2 and 3 year olds). Handicap vs non handicap races need to be taken into consideration as well as the sex of the horse (allowances given to fillies and mares).\n",
    "\n",
    "We really need a more nuanced view than just age."
   ]
  },
  {
   "cell_type": "markdown",
   "id": "6818201d",
   "metadata": {},
   "source": [
    "# Feature engineering: Build a rating for each horse, jockey and trainer"
   ]
  },
  {
   "cell_type": "markdown",
   "id": "7e24c2de",
   "metadata": {},
   "source": [
    "I am building a trainer rating based of an Actual vs Expected metric. I am \n",
    "using the 'obs_bsp' column to determine expected winners as determined by the market.\n",
    "\n",
    "A trainer is outperforming the market if the A/E value is greater than 1 and underperforming if the value is less than 0."
   ]
  },
  {
   "cell_type": "code",
   "execution_count": 90,
   "id": "72f6fba4",
   "metadata": {},
   "outputs": [],
   "source": [
    "# Keep original index\n",
    "df['original_index'] = df.index\n",
    "\n",
    "# Calculate SP percentage (expected wins contribution per runner)\n",
    "df['sp_pct'] = 1 / (df['obs__bsp'] + 1)\n",
    "\n",
    "# Sort by trainer, date, and original index (ensures consistent order)\n",
    "df = df.sort_values(['trainer_id', 'date', 'original_index']).copy()\n",
    "\n",
    "# Cumulative actual wins and expected wins BEFORE the current race\n",
    "df['trainer_cum_actual'] = (\n",
    "    df.groupby('trainer_id')['obs__is_winner']\n",
    "      .transform(lambda s: s.cumsum().shift(1).fillna(0))\n",
    ")\n",
    "\n",
    "df['trainer_cum_expected'] = (\n",
    "    df.groupby('trainer_id')['sp_pct']\n",
    "      .transform(lambda s: s.cumsum().shift(1).fillna(0))\n",
    ")\n",
    "\n",
    "# A/E ratio\n",
    "df['trainer_rating'] = df['trainer_cum_actual'] / df['trainer_cum_expected']\n",
    "df['trainer_rating'] = df['trainer_rating'].replace([float('inf'), -float('inf')], 0).fillna(0)\n",
    "\n",
    "# Restore original order\n",
    "df = df.sort_values('original_index').drop(columns=['original_index'])\n"
   ]
  },
  {
   "cell_type": "markdown",
   "id": "f83ae668",
   "metadata": {},
   "source": [
    "### Using the same logic as above, a rating can be determined for jockeys."
   ]
  },
  {
   "cell_type": "code",
   "execution_count": 91,
   "id": "92021d0c",
   "metadata": {},
   "outputs": [],
   "source": [
    "# Keep original index\n",
    "df['original_index'] = df.index\n",
    "\n",
    "# Sort by trainer, date, and original index (ensures consistent order)\n",
    "df = df.sort_values(['jockey_id', 'date', 'original_index']).copy()\n",
    "\n",
    "# Cumulative actual wins and expected wins BEFORE the current race\n",
    "df['jockey_cum_actual'] = (\n",
    "    df.groupby('jockey_id')['obs__is_winner']\n",
    "      .transform(lambda s: s.cumsum().shift(1).fillna(0))\n",
    ")\n",
    "\n",
    "df['jockey_cum_expected'] = (\n",
    "    df.groupby('jockey_id')['sp_pct']\n",
    "      .transform(lambda s: s.cumsum().shift(1).fillna(0))\n",
    ")\n",
    "\n",
    "# A/E ratio\n",
    "df['jockey_rating'] = df['jockey_cum_actual'] / df['jockey_cum_expected']\n",
    "df['jockey_rating'] = df['jockey_rating'].replace([float('inf'), -float('inf')], 0).fillna(0)\n",
    "\n",
    "# Restore original order\n",
    "df = df.sort_values('original_index').drop(columns=['original_index'])"
   ]
  },
  {
   "cell_type": "markdown",
   "id": "5ef00f88",
   "metadata": {},
   "source": [
    "### Calculate a rating for horses\n",
    "- For this rating I will take three variables and assign an equal weight of 0.33 to each of them."
   ]
  },
  {
   "cell_type": "code",
   "execution_count": 92,
   "id": "a62332dc",
   "metadata": {},
   "outputs": [],
   "source": [
    "df['horse_rating'] = 0.33 * df['max_top_speed_prev'] + 0.33 * df['ave_prize_per_start'] + 0.33 * df['avg_prb']"
   ]
  },
  {
   "cell_type": "markdown",
   "id": "7e31608f",
   "metadata": {},
   "source": [
    "## Build a predictive model"
   ]
  },
  {
   "cell_type": "code",
   "execution_count": 93,
   "id": "be497bc2",
   "metadata": {},
   "outputs": [
    {
     "name": "stdout",
     "output_type": "stream",
     "text": [
      "777549\n"
     ]
    }
   ],
   "source": [
    "print(len(df))"
   ]
  },
  {
   "cell_type": "markdown",
   "id": "7bf00805",
   "metadata": {},
   "source": [
    "I am going to remove ALL races where at least one horse (market participant) is having its first start. \n",
    "This is due to the fact that features that have been created on historical data. This will mean every horse having it's first run will feature values equal to 0, which not not ideal for creating a strong predictive model."
   ]
  },
  {
   "cell_type": "code",
   "execution_count": 94,
   "id": "08355393",
   "metadata": {},
   "outputs": [
    {
     "name": "stdout",
     "output_type": "stream",
     "text": [
      "524808\n"
     ]
    }
   ],
   "source": [
    "# List the columns you want to check\n",
    "cols_to_check = ['max_top_speed_prev', 'ave_prize_per_start', 'avg_prb']\n",
    "\n",
    "# Find race_ids where ANY horse has a 0 in ALL three of those columns\n",
    "bad_races = df.loc[(df[cols_to_check] == 0).all(axis=1), 'race_id'].unique()\n",
    "\n",
    "# Remove those races from the dataframe\n",
    "df_filtered = df[~df['race_id'].isin(bad_races)].copy()\n",
    "\n",
    "print(len(df_filtered))"
   ]
  },
  {
   "cell_type": "markdown",
   "id": "d5668242",
   "metadata": {},
   "source": [
    "### Normalize specified numeric values"
   ]
  },
  {
   "cell_type": "code",
   "execution_count": 95,
   "id": "10dd1740",
   "metadata": {},
   "outputs": [],
   "source": [
    "numeric_cols = ['max_top_speed_prev', 'ave_prize_per_start',\n",
    "               'avg_prb', 'trainer_rating', 'jockey_rating', 'horse_rating', 'official_rating']\n",
    "\n",
    "normalized_df = normalize_columns(df_filtered, numeric_cols)"
   ]
  },
  {
   "cell_type": "code",
   "execution_count": 96,
   "id": "d95e9290",
   "metadata": {},
   "outputs": [
    {
     "data": {
      "text/html": [
       "<div>\n",
       "<style scoped>\n",
       "    .dataframe tbody tr th:only-of-type {\n",
       "        vertical-align: middle;\n",
       "    }\n",
       "\n",
       "    .dataframe tbody tr th {\n",
       "        vertical-align: top;\n",
       "    }\n",
       "\n",
       "    .dataframe thead th {\n",
       "        text-align: right;\n",
       "    }\n",
       "</style>\n",
       "<table border=\"1\" class=\"dataframe\">\n",
       "  <thead>\n",
       "    <tr style=\"text-align: right;\">\n",
       "      <th></th>\n",
       "      <th>date</th>\n",
       "      <th>racecourse_country</th>\n",
       "      <th>racecourse_name</th>\n",
       "      <th>race_time</th>\n",
       "      <th>race_id</th>\n",
       "      <th>race_distance</th>\n",
       "      <th>race_type</th>\n",
       "      <th>race_type_simple</th>\n",
       "      <th>going_clean</th>\n",
       "      <th>n_runners</th>\n",
       "      <th>horse_id</th>\n",
       "      <th>horse_name</th>\n",
       "      <th>age</th>\n",
       "      <th>official_rating</th>\n",
       "      <th>carried_weight</th>\n",
       "      <th>draw</th>\n",
       "      <th>jockey_id</th>\n",
       "      <th>jockey_name</th>\n",
       "      <th>trainer_id</th>\n",
       "      <th>trainer_name</th>\n",
       "      <th>ltp_5min</th>\n",
       "      <th>obs__bsp</th>\n",
       "      <th>obs__racing_post_rating</th>\n",
       "      <th>obs__Place</th>\n",
       "      <th>obs__uposition</th>\n",
       "      <th>obs__is_winner</th>\n",
       "      <th>obs__top_speed</th>\n",
       "      <th>obs__distance_to_winner</th>\n",
       "      <th>obs__pos_prize</th>\n",
       "      <th>obs__completion_time</th>\n",
       "      <th>draw_iv</th>\n",
       "      <th>ltp_rank</th>\n",
       "      <th>rating_rank</th>\n",
       "      <th>max_top_speed_prev</th>\n",
       "      <th>horse_cum_prize_prev</th>\n",
       "      <th>horse_cum_starts_prev</th>\n",
       "      <th>ave_prize_per_start</th>\n",
       "      <th>prb</th>\n",
       "      <th>avg_prb</th>\n",
       "      <th>profit</th>\n",
       "      <th>sp_pct</th>\n",
       "      <th>trainer_cum_actual</th>\n",
       "      <th>trainer_cum_expected</th>\n",
       "      <th>trainer_rating</th>\n",
       "      <th>jockey_cum_actual</th>\n",
       "      <th>jockey_cum_expected</th>\n",
       "      <th>jockey_rating</th>\n",
       "      <th>horse_rating</th>\n",
       "    </tr>\n",
       "  </thead>\n",
       "  <tbody>\n",
       "    <tr>\n",
       "      <th>9547</th>\n",
       "      <td>2015-05-26</td>\n",
       "      <td>GB</td>\n",
       "      <td>Redcar</td>\n",
       "      <td>16:50</td>\n",
       "      <td>174447</td>\n",
       "      <td>1005.84</td>\n",
       "      <td>Flat</td>\n",
       "      <td>Flat Turf</td>\n",
       "      <td>Firm</td>\n",
       "      <td>8</td>\n",
       "      <td>2185</td>\n",
       "      <td>Rozene</td>\n",
       "      <td>4</td>\n",
       "      <td>0.418079</td>\n",
       "      <td>54.884677</td>\n",
       "      <td>9</td>\n",
       "      <td>1529</td>\n",
       "      <td>Rob Hornby</td>\n",
       "      <td>31</td>\n",
       "      <td>David Barron</td>\n",
       "      <td>3.1</td>\n",
       "      <td>2.94</td>\n",
       "      <td>66.0</td>\n",
       "      <td>7</td>\n",
       "      <td>7</td>\n",
       "      <td>0</td>\n",
       "      <td>53.0</td>\n",
       "      <td>5.35</td>\n",
       "      <td>0.0</td>\n",
       "      <td>59.13</td>\n",
       "      <td>1.059432</td>\n",
       "      <td>1.0</td>\n",
       "      <td>6.0</td>\n",
       "      <td>0.384181</td>\n",
       "      <td>4528.3</td>\n",
       "      <td>1</td>\n",
       "      <td>0.006355</td>\n",
       "      <td>0.142857</td>\n",
       "      <td>1.00</td>\n",
       "      <td>-1.00</td>\n",
       "      <td>0.253807</td>\n",
       "      <td>8.0</td>\n",
       "      <td>4.364232</td>\n",
       "      <td>0.019324</td>\n",
       "      <td>4.0</td>\n",
       "      <td>1.881449</td>\n",
       "      <td>0.016237</td>\n",
       "      <td>0.006451</td>\n",
       "    </tr>\n",
       "    <tr>\n",
       "      <th>9548</th>\n",
       "      <td>2015-05-26</td>\n",
       "      <td>GB</td>\n",
       "      <td>Redcar</td>\n",
       "      <td>16:50</td>\n",
       "      <td>174447</td>\n",
       "      <td>1005.84</td>\n",
       "      <td>Flat</td>\n",
       "      <td>Flat Turf</td>\n",
       "      <td>Firm</td>\n",
       "      <td>8</td>\n",
       "      <td>31676</td>\n",
       "      <td>Jacob's Pillow</td>\n",
       "      <td>4</td>\n",
       "      <td>0.440678</td>\n",
       "      <td>58.967008</td>\n",
       "      <td>1</td>\n",
       "      <td>5</td>\n",
       "      <td>Graham Lee</td>\n",
       "      <td>179</td>\n",
       "      <td>Jedd O'Keeffe</td>\n",
       "      <td>12.0</td>\n",
       "      <td>10.82</td>\n",
       "      <td>69.0</td>\n",
       "      <td>8</td>\n",
       "      <td>8</td>\n",
       "      <td>0</td>\n",
       "      <td>56.0</td>\n",
       "      <td>5.65</td>\n",
       "      <td>0.0</td>\n",
       "      <td>59.19</td>\n",
       "      <td>1.222421</td>\n",
       "      <td>6.0</td>\n",
       "      <td>2.0</td>\n",
       "      <td>0.209040</td>\n",
       "      <td>0.0</td>\n",
       "      <td>1</td>\n",
       "      <td>0.000000</td>\n",
       "      <td>0.000000</td>\n",
       "      <td>0.09</td>\n",
       "      <td>-1.00</td>\n",
       "      <td>0.084602</td>\n",
       "      <td>3.0</td>\n",
       "      <td>1.724999</td>\n",
       "      <td>0.018334</td>\n",
       "      <td>13.0</td>\n",
       "      <td>11.508847</td>\n",
       "      <td>0.008627</td>\n",
       "      <td>0.000052</td>\n",
       "    </tr>\n",
       "    <tr>\n",
       "      <th>9549</th>\n",
       "      <td>2015-05-26</td>\n",
       "      <td>GB</td>\n",
       "      <td>Redcar</td>\n",
       "      <td>16:50</td>\n",
       "      <td>174447</td>\n",
       "      <td>1005.84</td>\n",
       "      <td>Flat</td>\n",
       "      <td>Flat Turf</td>\n",
       "      <td>Firm</td>\n",
       "      <td>8</td>\n",
       "      <td>32045</td>\n",
       "      <td>Singeur</td>\n",
       "      <td>8</td>\n",
       "      <td>0.429379</td>\n",
       "      <td>58.059823</td>\n",
       "      <td>8</td>\n",
       "      <td>147</td>\n",
       "      <td>Daniel Tudhope</td>\n",
       "      <td>67</td>\n",
       "      <td>Rebecca Bastiman</td>\n",
       "      <td>7.0</td>\n",
       "      <td>10.06</td>\n",
       "      <td>88.0</td>\n",
       "      <td>1</td>\n",
       "      <td>1</td>\n",
       "      <td>1</td>\n",
       "      <td>76.0</td>\n",
       "      <td>0.00</td>\n",
       "      <td>6469.0</td>\n",
       "      <td>58.16</td>\n",
       "      <td>0.866808</td>\n",
       "      <td>3.0</td>\n",
       "      <td>4.0</td>\n",
       "      <td>0.310734</td>\n",
       "      <td>0.0</td>\n",
       "      <td>2</td>\n",
       "      <td>0.000000</td>\n",
       "      <td>1.000000</td>\n",
       "      <td>0.35</td>\n",
       "      <td>9.06</td>\n",
       "      <td>0.090416</td>\n",
       "      <td>1.0</td>\n",
       "      <td>0.623506</td>\n",
       "      <td>0.016907</td>\n",
       "      <td>10.0</td>\n",
       "      <td>7.098124</td>\n",
       "      <td>0.010760</td>\n",
       "      <td>0.000078</td>\n",
       "    </tr>\n",
       "    <tr>\n",
       "      <th>9550</th>\n",
       "      <td>2015-05-26</td>\n",
       "      <td>GB</td>\n",
       "      <td>Redcar</td>\n",
       "      <td>16:50</td>\n",
       "      <td>174447</td>\n",
       "      <td>1005.84</td>\n",
       "      <td>Flat</td>\n",
       "      <td>Flat Turf</td>\n",
       "      <td>Firm</td>\n",
       "      <td>8</td>\n",
       "      <td>33253</td>\n",
       "      <td>Flash City</td>\n",
       "      <td>7</td>\n",
       "      <td>0.423729</td>\n",
       "      <td>57.606231</td>\n",
       "      <td>7</td>\n",
       "      <td>15</td>\n",
       "      <td>James Sullivan</td>\n",
       "      <td>26</td>\n",
       "      <td>Ruth Carr</td>\n",
       "      <td>11.5</td>\n",
       "      <td>8.45</td>\n",
       "      <td>71.0</td>\n",
       "      <td>4</td>\n",
       "      <td>4</td>\n",
       "      <td>0</td>\n",
       "      <td>58.0</td>\n",
       "      <td>4.25</td>\n",
       "      <td>481.0</td>\n",
       "      <td>58.93</td>\n",
       "      <td>1.191860</td>\n",
       "      <td>5.0</td>\n",
       "      <td>5.0</td>\n",
       "      <td>0.367232</td>\n",
       "      <td>0.0</td>\n",
       "      <td>2</td>\n",
       "      <td>0.000000</td>\n",
       "      <td>0.571429</td>\n",
       "      <td>0.54</td>\n",
       "      <td>-1.00</td>\n",
       "      <td>0.105820</td>\n",
       "      <td>4.0</td>\n",
       "      <td>4.381909</td>\n",
       "      <td>0.009623</td>\n",
       "      <td>4.0</td>\n",
       "      <td>4.307012</td>\n",
       "      <td>0.007093</td>\n",
       "      <td>0.000092</td>\n",
       "    </tr>\n",
       "    <tr>\n",
       "      <th>9551</th>\n",
       "      <td>2015-05-26</td>\n",
       "      <td>GB</td>\n",
       "      <td>Redcar</td>\n",
       "      <td>16:50</td>\n",
       "      <td>174447</td>\n",
       "      <td>1005.84</td>\n",
       "      <td>Flat</td>\n",
       "      <td>Flat Turf</td>\n",
       "      <td>Firm</td>\n",
       "      <td>8</td>\n",
       "      <td>33387</td>\n",
       "      <td>Imperial Legend</td>\n",
       "      <td>6</td>\n",
       "      <td>0.440678</td>\n",
       "      <td>55.791862</td>\n",
       "      <td>5</td>\n",
       "      <td>518</td>\n",
       "      <td>Miss Anna Hesketh</td>\n",
       "      <td>23</td>\n",
       "      <td>David Nicholls</td>\n",
       "      <td>6.0</td>\n",
       "      <td>7.00</td>\n",
       "      <td>86.0</td>\n",
       "      <td>2</td>\n",
       "      <td>2</td>\n",
       "      <td>0</td>\n",
       "      <td>74.0</td>\n",
       "      <td>1.00</td>\n",
       "      <td>1925.0</td>\n",
       "      <td>58.34</td>\n",
       "      <td>1.135105</td>\n",
       "      <td>2.0</td>\n",
       "      <td>2.0</td>\n",
       "      <td>0.429379</td>\n",
       "      <td>1925.0</td>\n",
       "      <td>2</td>\n",
       "      <td>0.001350</td>\n",
       "      <td>0.857143</td>\n",
       "      <td>0.77</td>\n",
       "      <td>-1.00</td>\n",
       "      <td>0.125000</td>\n",
       "      <td>3.0</td>\n",
       "      <td>2.060354</td>\n",
       "      <td>0.015350</td>\n",
       "      <td>0.0</td>\n",
       "      <td>0.465507</td>\n",
       "      <td>0.000000</td>\n",
       "      <td>0.001458</td>\n",
       "    </tr>\n",
       "  </tbody>\n",
       "</table>\n",
       "</div>"
      ],
      "text/plain": [
       "            date racecourse_country racecourse_name race_time  race_id  \\\n",
       "9547  2015-05-26                 GB          Redcar     16:50   174447   \n",
       "9548  2015-05-26                 GB          Redcar     16:50   174447   \n",
       "9549  2015-05-26                 GB          Redcar     16:50   174447   \n",
       "9550  2015-05-26                 GB          Redcar     16:50   174447   \n",
       "9551  2015-05-26                 GB          Redcar     16:50   174447   \n",
       "\n",
       "      race_distance race_type race_type_simple going_clean  n_runners  \\\n",
       "9547        1005.84      Flat        Flat Turf        Firm          8   \n",
       "9548        1005.84      Flat        Flat Turf        Firm          8   \n",
       "9549        1005.84      Flat        Flat Turf        Firm          8   \n",
       "9550        1005.84      Flat        Flat Turf        Firm          8   \n",
       "9551        1005.84      Flat        Flat Turf        Firm          8   \n",
       "\n",
       "      horse_id       horse_name  age  official_rating  carried_weight  draw  \\\n",
       "9547      2185           Rozene    4         0.418079       54.884677     9   \n",
       "9548     31676   Jacob's Pillow    4         0.440678       58.967008     1   \n",
       "9549     32045          Singeur    8         0.429379       58.059823     8   \n",
       "9550     33253       Flash City    7         0.423729       57.606231     7   \n",
       "9551     33387  Imperial Legend    6         0.440678       55.791862     5   \n",
       "\n",
       "      jockey_id        jockey_name  trainer_id      trainer_name  ltp_5min  \\\n",
       "9547       1529         Rob Hornby          31      David Barron       3.1   \n",
       "9548          5         Graham Lee         179     Jedd O'Keeffe      12.0   \n",
       "9549        147     Daniel Tudhope          67  Rebecca Bastiman       7.0   \n",
       "9550         15     James Sullivan          26         Ruth Carr      11.5   \n",
       "9551        518  Miss Anna Hesketh          23    David Nicholls       6.0   \n",
       "\n",
       "      obs__bsp  obs__racing_post_rating obs__Place  obs__uposition  \\\n",
       "9547      2.94                     66.0          7               7   \n",
       "9548     10.82                     69.0          8               8   \n",
       "9549     10.06                     88.0          1               1   \n",
       "9550      8.45                     71.0          4               4   \n",
       "9551      7.00                     86.0          2               2   \n",
       "\n",
       "      obs__is_winner  obs__top_speed  obs__distance_to_winner  obs__pos_prize  \\\n",
       "9547               0            53.0                     5.35             0.0   \n",
       "9548               0            56.0                     5.65             0.0   \n",
       "9549               1            76.0                     0.00          6469.0   \n",
       "9550               0            58.0                     4.25           481.0   \n",
       "9551               0            74.0                     1.00          1925.0   \n",
       "\n",
       "      obs__completion_time   draw_iv  ltp_rank  rating_rank  \\\n",
       "9547                 59.13  1.059432       1.0          6.0   \n",
       "9548                 59.19  1.222421       6.0          2.0   \n",
       "9549                 58.16  0.866808       3.0          4.0   \n",
       "9550                 58.93  1.191860       5.0          5.0   \n",
       "9551                 58.34  1.135105       2.0          2.0   \n",
       "\n",
       "      max_top_speed_prev  horse_cum_prize_prev  horse_cum_starts_prev  \\\n",
       "9547            0.384181                4528.3                      1   \n",
       "9548            0.209040                   0.0                      1   \n",
       "9549            0.310734                   0.0                      2   \n",
       "9550            0.367232                   0.0                      2   \n",
       "9551            0.429379                1925.0                      2   \n",
       "\n",
       "      ave_prize_per_start       prb  avg_prb  profit    sp_pct  \\\n",
       "9547             0.006355  0.142857     1.00   -1.00  0.253807   \n",
       "9548             0.000000  0.000000     0.09   -1.00  0.084602   \n",
       "9549             0.000000  1.000000     0.35    9.06  0.090416   \n",
       "9550             0.000000  0.571429     0.54   -1.00  0.105820   \n",
       "9551             0.001350  0.857143     0.77   -1.00  0.125000   \n",
       "\n",
       "      trainer_cum_actual  trainer_cum_expected  trainer_rating  \\\n",
       "9547                 8.0              4.364232        0.019324   \n",
       "9548                 3.0              1.724999        0.018334   \n",
       "9549                 1.0              0.623506        0.016907   \n",
       "9550                 4.0              4.381909        0.009623   \n",
       "9551                 3.0              2.060354        0.015350   \n",
       "\n",
       "      jockey_cum_actual  jockey_cum_expected  jockey_rating  horse_rating  \n",
       "9547                4.0             1.881449       0.016237      0.006451  \n",
       "9548               13.0            11.508847       0.008627      0.000052  \n",
       "9549               10.0             7.098124       0.010760      0.000078  \n",
       "9550                4.0             4.307012       0.007093      0.000092  \n",
       "9551                0.0             0.465507       0.000000      0.001458  "
      ]
     },
     "execution_count": 96,
     "metadata": {},
     "output_type": "execute_result"
    }
   ],
   "source": [
    "normalized_df.head()"
   ]
  },
  {
   "cell_type": "markdown",
   "id": "8e57dd85",
   "metadata": {},
   "source": [
    "### Correlation matrix\n",
    "- I am going to use a correlation matrix to investigate the pairwise relationship between features in the dataset. This allows us to see the strength and direction of their linear relationships."
   ]
  },
  {
   "cell_type": "code",
   "execution_count": 97,
   "id": "4c488acb",
   "metadata": {},
   "outputs": [
    {
     "data": {
      "image/png": "[encoded data removed]",
      "text/plain": [
       "<Figure size 1000x600 with 2 Axes>"
      ]
     },
     "metadata": {},
     "output_type": "display_data"
    }
   ],
   "source": [
    "subset_cols = ['obs__is_winner', 'official_rating', 'ltp_5min', 'max_top_speed_prev', 'ave_prize_per_start',\n",
    "               'avg_prb', 'trainer_rating', 'jockey_rating', 'horse_rating']\n",
    "\n",
    "subset_df = normalized_df[subset_cols]\n",
    "\n",
    "# Compute correlation matrix\n",
    "corr_matrix = subset_df.corr()\n",
    "\n",
    "# Display as heatmap\n",
    "plt.figure(figsize=(10, 6))\n",
    "sns.heatmap(corr_matrix, annot=True, fmt=\".2f\", cmap=\"coolwarm\", cbar=True)\n",
    "plt.title(\"Correlation Matrix\", fontsize=14)\n",
    "plt.show()"
   ]
  },
  {
   "cell_type": "markdown",
   "id": "d91968c5",
   "metadata": {},
   "source": [
    "- Investigating the correlation m atrix above shows some interesting relationships. There is a strong positive reltionship between the official rating and the maximum top speed achieved by a horse in previous starts. There is also a strong positive relationship between the average percentage of rivals beaten and the maximum top speed achieved by a horse in previous starts.\n",
    "\n",
    "- Looking at 'obs__is_winner', there is no very strong linear relationships with the other variables in the correlation matrix. This may be due to the fact that the relationship is non linear or that simply I need to find features that have a more stronger relationship. There is a negative linear relation between the features 'obs__is_winner' and 'bsp_5min'. This is due the inverse relation between the probability of a horse winning and the price/ odds offered.\n",
    "\n",
    "- Looking at the correlation matrix, one potential methodology could be around modelling a handicap rating. We could then look for an edge that could be exploited in handicap races where the weight a horse carries is determined by a rating. "
   ]
  },
  {
   "cell_type": "markdown",
   "id": "4f809e7f",
   "metadata": {},
   "source": [
    "### Create a training and testing dataset"
   ]
  },
  {
   "cell_type": "code",
   "execution_count": 98,
   "id": "b3ab3e96",
   "metadata": {},
   "outputs": [],
   "source": [
    "feature_cols = ['trainer_rating', 'jockey_rating', 'horse_rating']   \n",
    "target = 'obs__is_winner'\n",
    "\n",
    "train_data, test_data = split_data(normalized_df)\n",
    "\n",
    "X_train = train_data[feature_cols]\n",
    "y_train = train_data[target]\n",
    "X_test = test_data[feature_cols]\n",
    "y_test = test_data[target]"
   ]
  },
  {
   "cell_type": "markdown",
   "id": "84bf6107",
   "metadata": {},
   "source": [
    "### Start with a baseline model.\n",
    "- Our baseline model is going to be simply backing every market favourite using 'obs__bsp'. Over the long term, ~33% of the time the favourite wins (flat racing). From my experience it is a fairly popular system and there is a cohort of professional gamblers who only back favourites.\n",
    "\n",
    "- Important assumption here is that the bet is placed at the price given by 'ltp_5min'. It would be interesting to see the profit and ROI if taking the starting price.\n",
    "I will circle back to this if I have time.\n",
    "\n",
    "- With this scenario we are betting on every favourite including races with joint favourites (may have multiple bets in the same race). There could be scenario where we don't bet into markets with joint favourites or could possibly split the stakes across joint favourites but for thes ake of this exercise we will bet to level stakes on all favourites."
   ]
  },
  {
   "cell_type": "code",
   "execution_count": 100,
   "id": "1caa1e2c",
   "metadata": {},
   "outputs": [
    {
     "name": "stdout",
     "output_type": "stream",
     "text": [
      "Total number of races: 11314\n",
      "Total number of bets placed: 11659\n",
      "Total Profit: £-26.97\n",
      "ROI per £1 staked: -0.23%\n"
     ]
    }
   ],
   "source": [
    "test_data0 = test_data.copy()\n",
    "\n",
    "# Calculate profit for £1 bet on favourites\n",
    "test_data0['fav_profit'] = 0.0\n",
    "test_data0.loc[(test_data0['ltp_rank'] == 1) & (test_data0['obs__is_winner'] == 1), 'fav_profit'] = test_data0['obs__bsp'] - 1 # important to note profit is (bsp - 1)\n",
    "test_data0.loc[(test_data0['ltp_rank'] == 1) & (test_data0['obs__is_winner'] == 0), 'fav_profit'] = -1 # if bet loses, lose the stake\n",
    "\n",
    "# Total profit\n",
    "total_profit = test_data0['fav_profit'].sum()\n",
    "\n",
    "# ROI\n",
    "n_races = test_data0['race_id'].nunique()\n",
    "n_bets = (test_data0['ltp_rank'] == 1).sum()\n",
    "roi = total_profit / n_bets\n",
    "\n",
    "print(f'Total number of races: {n_races}')\n",
    "print(f'Total number of bets placed: {n_bets}')\n",
    "print(f'Total Profit: £{total_profit:.2f}')\n",
    "print(f'ROI per £1 staked: {roi:.2%}')\n"
   ]
  },
  {
   "cell_type": "markdown",
   "id": "329adbae",
   "metadata": {},
   "source": [
    "### Create a plot for cumultaive profit to a £1 stake\n"
   ]
  },
  {
   "cell_type": "code",
   "execution_count": 101,
   "id": "9a13d8c1",
   "metadata": {},
   "outputs": [
    {
     "data": {
      "image/png": "[encoded data removed]",
      "text/plain": [
       "<Figure size 640x480 with 1 Axes>"
      ]
     },
     "metadata": {},
     "output_type": "display_data"
    }
   ],
   "source": [
    "test_data0['bet_number'] = (test_data0['ltp_rank'] == 1).cumsum()\n",
    "test_data0['cum_profit'] = test_data0['fav_profit'].cumsum()\n",
    "\n",
    "plot_data = test_data0.loc[test_data0['ltp_rank'] == 1, ['bet_number', 'cum_profit']]\n",
    "\n",
    "plot_data.plot(x='bet_number', y='cum_profit', title=\"Cumulative Profit Betting £1 on Favourites\")\n",
    "plt.xlabel(\"Number of Bets\")\n",
    "plt.ylabel(\"Cumulative Profit (£)\")\n",
    "plt.show()\n"
   ]
  },
  {
   "cell_type": "markdown",
   "id": "c2f67dbb",
   "metadata": {},
   "source": [
    "We can see this is not a profitable strategy, but it gives a good starting point to improve from."
   ]
  },
  {
   "cell_type": "markdown",
   "id": "6e4bc811",
   "metadata": {},
   "source": [
    "### Train a gradient booster classifier\n",
    "- I am using a GBC for a few reasons.\n",
    "- Firstly, its easy to implement which is important for this task due the turn around time.\n",
    "- The strengths of this model are that it handles non linear relationships, it outputs probabilities, \n",
    "works well with tabular data and being a tree based ensemble model it is great at avoiding overfitting.\n",
    "\n"
   ]
  },
  {
   "cell_type": "markdown",
   "id": "9af90abd",
   "metadata": {},
   "source": [
    "### Dealing with an imbalanced dataset.\n",
    "- It is important to note the imbalanced nature of this dataset when using 'obs__is_winner' as the dependent variable.\n",
    "In the vast majority of race there is only one winner with multiple losers."
   ]
  },
  {
   "cell_type": "code",
   "execution_count": 102,
   "id": "8a92f509",
   "metadata": {},
   "outputs": [
    {
     "name": "stdout",
     "output_type": "stream",
     "text": [
      "Length of  X_train: 420213\n",
      "Length of y_train: 420213\n",
      "\n",
      "Length of  X_resampled: 749916\n",
      "Length of y_resampled: 749916\n"
     ]
    }
   ],
   "source": [
    "# Apply Random Oversampling\n",
    "ros = RandomOverSampler(random_state=42)\n",
    "X_resampled, y_resampled = ros.fit_resample(X_train, y_train)\n",
    "\n",
    "print(f\"Length of  X_train: {len(X_train)}\\nLength of y_train: {len(y_train)}\")\n",
    "print(f\"\\nLength of  X_resampled: {len(X_resampled)}\\nLength of y_resampled: {len(y_resampled)}\")"
   ]
  },
  {
   "cell_type": "code",
   "execution_count": 103,
   "id": "ccfff2b8",
   "metadata": {},
   "outputs": [],
   "source": [
    "test_data2 = test_data.copy()\n",
    "\n",
    "# Instantiate and train the Gradient Boosting classifier\n",
    "gb_classifier = GradientBoostingClassifier(n_estimators=100, random_state=42)\n",
    "gb_classifier.fit(X_resampled, y_resampled)\n",
    "\n",
    "# Make predictions on the test set\n",
    "y_pred_gbx = gb_classifier.predict(X_test)\n",
    "\n",
    "test_data2['model_preds'] = y_pred_gbx\n",
    "\n",
    "# Get predicted probabilities for the positive class (horse wins)\n",
    "test_data2['pred_prob'] = gb_classifier.predict_proba(X_test)[:, 1]\n",
    "\n",
    "# Normalize probabilities per race so that sum = 1\n",
    "test_data2['pred_prob_norm'] = test_data2.groupby('race_id')['pred_prob'].transform(lambda x: x / x.sum())\n",
    "\n",
    "test_data2['derived_model_price'] = 1 / test_data2['pred_prob_norm']\n",
    "\n"
   ]
  },
  {
   "cell_type": "code",
   "execution_count": 104,
   "id": "e7beb7ac",
   "metadata": {},
   "outputs": [
    {
     "name": "stdout",
     "output_type": "stream",
     "text": [
      "\n",
      "Confusion Matrix: \n",
      "[[48888 44393]\n",
      " [ 4308  7006]]\n",
      "Accuracy: 0.5343850088436349\n",
      "Precision: 0.1363061538162221\n",
      "Recall: 0.6192328089093159\n",
      "F1 score: 0.22343054869006426\n",
      "ROC AUC score: 0.571663337913776\n",
      "\n",
      "Total number of bets: 51399\n",
      "Total return from betting £1.00 on each prediction where model_preds == 1: £319.53\n",
      "Return per pound invested: £0.01\n",
      "Model accuracy: 13.63%\n"
     ]
    }
   ],
   "source": [
    "print_metrics(y_test, y_pred_gbx)\n",
    "print()\n",
    "profit_calculation(test_data2)"
   ]
  },
  {
   "cell_type": "markdown",
   "id": "f9763148",
   "metadata": {},
   "source": [
    "- The output above shows that the model is profiatble with a total return of £319.53 from 51,399 bets. The ROI per £1.00 is £0.01. From these bets, 44,393 are false positive's meaning that model identified themm as winners but they were actual loser's. There 4,308 false negatives, meaning that model failed to identify 4,308 winners from the test dataset.\n",
    "\n",
    "- The ROC AUC of 0.57 shows that model performs better than random guessing (it has predictive power, 0.5 represents random guessing 1.0 equals perfect predictive power.)\n",
    "\n",
    "- The recall value is good and it means the model correctly identifies 62% of winners\n",
    "\n",
    "- However the precision score is worrying, meaning that only 14% of the models predictions win.\n",
    "\n",
    "- With no commision rates we are able to make a small ROI. However if the commision rate was 1% we would break even, however this system would lose money if the commission rate was 2%."
   ]
  },
  {
   "cell_type": "code",
   "execution_count": 105,
   "id": "c09a3637",
   "metadata": {},
   "outputs": [
    {
     "data": {
      "image/png": "[encoded data removed]",
      "text/plain": [
       "<Figure size 640x480 with 1 Axes>"
      ]
     },
     "metadata": {},
     "output_type": "display_data"
    }
   ],
   "source": [
    "# Calculate profit for £1 bet on favourites\n",
    "test_data2['preds_profit'] = 0.0\n",
    "test_data2.loc[(test_data2['model_preds'] == 1) & (test_data2['obs__is_winner'] == 1), 'preds_profit'] = test_data2['obs__bsp'] - 1 # important to note profit is (bsp - 1)\n",
    "test_data2.loc[(test_data2['model_preds'] == 1) & (test_data2['obs__is_winner'] == 0), 'preds_profit'] = -1 # if bet loses, lose the stake\n",
    "\n",
    "# Total profit\n",
    "total_profit = test_data2['preds_profit'].sum()\n",
    "\n",
    "\n",
    "test_data2['bet_number'] = (test_data2['model_preds'] == 1).cumsum()\n",
    "test_data2['cum_profit'] = test_data2['preds_profit'].cumsum()\n",
    "\n",
    "plot_data = test_data2.loc[test_data2['model_preds'] == 1, ['bet_number', 'cum_profit']]\n",
    "\n",
    "plot_data.plot(x='bet_number', y='cum_profit', title=\"Cumulative Profit Betting £1 on Model Predictions\")\n",
    "plt.xlabel(\"Number of Bets\")\n",
    "plt.ylabel(\"Cumulative Profit (£)\")\n",
    "plt.show()"
   ]
  },
  {
   "cell_type": "markdown",
   "id": "f2046c7a",
   "metadata": {},
   "source": [
    "### Monte carlo simulations\n",
    "- Monte carlo simulations are an important tool to help simulate betting scenarios. Using monte carlo simulations we can look at the distribution of returns rather than a single point estimate. Monte carlo simulations help measure expected profitability and risk. Risk is very important as all systems will go through losing steaks, even with a positive edge and short term variance can wipe out a 'betting bank'.\n",
    "- Monte carlo allows models to be simulated 'n' number of times allowing us to see how long losing runs may go, the profitability of increasing stake size and the risk of ruin."
   ]
  },
  {
   "cell_type": "code",
   "execution_count": 36,
   "id": "9ac9281c",
   "metadata": {},
   "outputs": [],
   "source": [
    "# Copy the test data\n",
    "mc_df = test_data2.copy()\n",
    "\n",
    "# Number of Monte Carlo iterations\n",
    "n_simulations = 1000\n",
    "results = []\n",
    "\n",
    "for i in range(n_simulations):\n",
    "    # Group by race and simulate each race\n",
    "    total_profit = mc_df.groupby('race_id').apply(monte_carlo_simulation).sum()\n",
    "    results.append(total_profit)\n",
    "\n",
    "# Convert to array for analysis\n",
    "results = np.array(results)\n",
    "\n",
    "# Expected profit and risk\n",
    "expected_profit = results.mean()\n",
    "profit_std = results.std()\n"
   ]
  },
  {
   "cell_type": "markdown",
   "id": "b177fd56",
   "metadata": {},
   "source": [
    "### Visualiaze and interpret the monte carlo simulation\n",
    "- Using the output from the monte carlo simulation we can derive some understanding from the histogram.\n",
    "- Long tails (skewness) show rare but extreme outcomes (big wins or big losses) which are crucial to understanding risk.\n",
    "- We are looking for a histogram that is narrow, as this shows a low variability in outcomes.\n",
    "- We are looking for histogram to be centred around a positive value as this shows this model is profitable on average.\n",
    "- I have added 95% CI's to show were roughly 95% of the outcomes fall between."
   ]
  },
  {
   "cell_type": "code",
   "execution_count": null,
   "id": "c2b05760",
   "metadata": {},
   "outputs": [
    {
     "name": "stdout",
     "output_type": "stream",
     "text": [
      "Monte Carlo simulations (1000 runs):\n",
      "Expected total profit: £-199.70\n",
      "Standard deviation (risk): £473.11\n"
     ]
    },
    {
     "data": {
      "image/png": "[encoded data removed]",
      "text/plain": [
       "<Figure size 640x480 with 1 Axes>"
      ]
     },
     "metadata": {},
     "output_type": "display_data"
    }
   ],
   "source": [
    "print(f\"Monte Carlo simulations: ({n_simulations} runs)\")\n",
    "print(f\"Expected total profit: £{expected_profit:.2f}\")\n",
    "print(f\"Standard deviation (risk): £{profit_std:.2f}\")\n",
    "\n",
    "mean_profit = np.mean(results)\n",
    "std_profit = np.std(results)\n",
    "ci_lower = mean_profit - 1.96 * std_profit  # 95% CI lower bound\n",
    "ci_upper = mean_profit + 1.96 * std_profit  # 95% CI upper bound\n",
    "\n",
    "plt.hist(results, bins=30, edgecolor='k', alpha=0.7)\n",
    "plt.axvline(mean_profit, color='r', linestyle='--', label=f'Mean: £{mean_profit:.2f}')\n",
    "plt.axvline(ci_lower, color='g', linestyle=':', label=f'95% CI Lower: £{ci_lower:.2f}')\n",
    "plt.axvline(ci_upper, color='g', linestyle=':', label=f'95% CI Upper: £{ci_upper:.2f}')\n",
    "\n",
    "plt.title(\"Distribution of Total Profit over Monte Carlo Simulations\")\n",
    "plt.xlabel(\"Total Profit (£)\")\n",
    "plt.ylabel(\"Frequency\")\n",
    "plt.legend()\n",
    "plt.show()"
   ]
  },
  {
   "cell_type": "markdown",
   "id": "98f44057",
   "metadata": {},
   "source": [
    "The ouput from the Monte Carlo simulations shows the distribution of outcomes rather than relying soley on expected profit. \n",
    "- Running this straegy many times would reuslt in a loss of on average £199.70. \n",
    "- The histogram shows the frequency of expected profits. We can see scenarios of making profits of over £1500 but also scenrios where the predictions result in losses of £-1500. \n",
    "- The confidence intervals show that 95% of profits will fall between £-1127.00 and £727.61. \n",
    "- The standard deviation measures the volatility of the model and it shows that even though the average outcome is a loss, individual runs of the model could result in heavy losses or potential wins."
   ]
  },
  {
   "cell_type": "markdown",
   "id": "dc063aba",
   "metadata": {},
   "source": [
    "## Final thoughts.\n",
    "- There is fair degree of complexity needed to create a profitable system in the long run.\n",
    "- My opinion is that this problem is less about the modelling and more about data quality and feature engineering.\n",
    "- Train models on subsets of data (class, going, left handed track vs right handed track).\n",
    "- Undulating tracks is a major, major factor. Can three year olds handle the track of Epsom or Goodwood????\n",
    "- Creating pipelines are essential. Data preprocessing and then use the pipeline to gain inference from the correct model. (ie model for 10 furlongs, right handed, undulating, colts only race).\n",
    "- Instead of just picking winners, what about picking place getters? Also merit in trying to identify incorrectly handicapped horses. As a horse been incorrectly weighted and can an edge be exploiited?\n",
    "\n",
    "\n"
   ]
  },
  {
   "cell_type": "code",
   "execution_count": null,
   "id": "059a9e30",
   "metadata": {},
   "outputs": [],
   "source": []
  }
 ],
 "metadata": {
  "kernelspec": {
   "display_name": "smartodds",
   "language": "python",
   "name": "python3"
  },
  "language_info": {
   "codemirror_mode": {
    "name": "ipython",
    "version": 3
   },
   "file_extension": ".py",
   "mimetype": "text/x-python",
   "name": "python",
   "nbconvert_exporter": "python",
   "pygments_lexer": "ipython3",
   "version": "3.13.7"
  }
 },
 "nbformat": 4,
 "nbformat_minor": 5
}
